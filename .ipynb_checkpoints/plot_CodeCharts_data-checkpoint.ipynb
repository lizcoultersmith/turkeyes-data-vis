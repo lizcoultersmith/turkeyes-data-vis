{
 "cells": [
  {
   "cell_type": "code",
   "execution_count": 12,
   "metadata": {},
   "outputs": [],
   "source": [
    "import matplotlib.pyplot as plt\n",
    "%matplotlib inline\n",
    "from PIL import Image\n",
    "import visfunctions as sp\n",
    "import utilfunctions as sf\n",
    "import pickle\n",
    "import warnings\n",
    "warnings.filterwarnings('ignore')"
   ]
  },
  {
   "cell_type": "code",
   "execution_count": null,
   "metadata": {},
   "outputs": [],
   "source": [
    "def visualize_attention(CC_data, plotN=5, plottype=2, SIGMA=50):\n",
    "    # plottype:\n",
    "    # 1 for gaze locations only\n",
    "    # 2 for heatmap overlay\n",
    "    # 3 for regular spotlight\n",
    "    # 4 for spotlight with level sets\n",
    "    # SIGMA is used for converting locations into maps (distributions)\n",
    "    # plotN is how many images to plot\n",
    "\n",
    "    imnames = list(CC_data.keys())\n",
    "    \n",
    "    if plotN:\n",
    "        imnames = imnames[:plotN] \n",
    "\n",
    "    for filename in imnames:\n",
    "\n",
    "        code_heatmap,im = sf.get_heatmap_for_image(filename,CC_data[filename],imdir,sigma=SIGMA,toplot=False)\n",
    "\n",
    "        fig, ax = plt.subplots(1, 1, figsize=(10,10))\n",
    "\n",
    "        if plottype==1:\n",
    "            ax.imshow(im)\n",
    "            xs = [elem['coords'][0] for elem in CC_data[imnames[i]]]\n",
    "            ys = [elem['coords'][1] for elem in CC_data[imnames[i]]]\n",
    "            ax.scatter(x=xs, y=ys, c='r', s=10)\n",
    "        elif plottype==2:\n",
    "            sp.transparent_heatmap(ax,im,code_heatmap)\n",
    "        elif plottype==3:\n",
    "            spotlight_res = sp.spotlight(im,code_heatmap,toplot=False);\n",
    "            ax.imshow(spotlight_res); \n",
    "        elif plottype==4:\n",
    "            spotlight_res = sp.spotlight_custom(im,code_heatmap,toplot=False,percentile_based=False,levels=5,most_salient_nlevel=3,smoothness=0)\n",
    "            ax.imshow(spotlight_res); \n",
    "\n",
    "        ax.set_axis_off(); #ax.set_title('Codecharts with fixations overlaid (NSS=%2.2f)'%(NSS_fix_on_code[i]));\n",
    "\n",
    "        plt.show();"
   ]
  },
  {
   "cell_type": "code",
   "execution_count": 15,
   "metadata": {},
   "outputs": [],
   "source": [
    "imdir = '../../attention-methodologies/data/CodeCharts/CAT2000_images' # CHANGE THIS \n",
    "# by downloading the images from here: http://attent-methods.scripts.mit.edu/datasets/CAT2000_images.zip\n",
    "with open('CodeCharts_CAT2000.pickle', 'rb') as curfile:  \n",
    "    CC_data = pickle.load(curfile)"
   ]
  },
  {
   "cell_type": "code",
   "execution_count": 17,
   "metadata": {},
   "outputs": [],
   "source": [
    "imdir = '../../attention-methodologies/data/CodeCharts/OSIE_images' # CHANGE THIS \n",
    "# by downloading the images from here: http://attent-methods.scripts.mit.edu/datasets/CAT2000_images.zip\n",
    "with open('CodeCharts_OSIE.pickle', 'rb') as curfile:  \n",
    "    CC_data = pickle.load(curfile)"
   ]
  },
  {
   "cell_type": "code",
   "execution_count": null,
   "metadata": {},
   "outputs": [],
   "source": []
  }
 ],
 "metadata": {
  "kernelspec": {
   "display_name": "Python 3",
   "language": "python",
   "name": "python3"
  },
  "language_info": {
   "codemirror_mode": {
    "name": "ipython",
    "version": 3
   },
   "file_extension": ".py",
   "mimetype": "text/x-python",
   "name": "python",
   "nbconvert_exporter": "python",
   "pygments_lexer": "ipython3",
   "version": "3.7.2"
  }
 },
 "nbformat": 4,
 "nbformat_minor": 2
}
